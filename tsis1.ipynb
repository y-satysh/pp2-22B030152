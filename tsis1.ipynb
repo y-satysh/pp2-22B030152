{
 "cells": [
  {
   "cell_type": "code",
   "execution_count": 1,
   "id": "d39a41da",
   "metadata": {},
   "outputs": [
    {
     "name": "stdout",
     "output_type": "stream",
     "text": [
      "Hello, World!\n"
     ]
    }
   ],
   "source": [
    "print(\"Hello, World!\")"
   ]
  },
  {
   "cell_type": "code",
   "execution_count": 2,
   "id": "735be018",
   "metadata": {},
   "outputs": [
    {
     "name": "stdout",
     "output_type": "stream",
     "text": [
      "True\n",
      "True\n",
      "YES!\n",
      "True\n"
     ]
    }
   ],
   "source": [
    "#When you run a condition in an if statement, Python returns True or False:\n",
    "print(bool(\"Hello\"))\n",
    "print(bool(15))\n",
    "\n",
    "#Print \"YES!\" if the function returns True, otherwise print \"NO!\":\n",
    "def myFunction() :\n",
    "  return True\n",
    "\n",
    "if myFunction():\n",
    "  print(\"YES!\")\n",
    "else:\n",
    "  print(\"NO!\")\n",
    "\n",
    "#isinstance() function\n",
    "x = 200\n",
    "print(isinstance(x, int))"
   ]
  },
  {
   "cell_type": "code",
   "execution_count": 3,
   "id": "22d5ff69",
   "metadata": {},
   "outputs": [],
   "source": [
    "x = int(1)   # x will be 1\n",
    "y = int(2.8) # y will be 2\n",
    "z = int(\"3\") # z will be 3\n",
    "x = float(1)     # x will be 1.0\n",
    "y = float(2.8)   # y will be 2.8\n",
    "z = float(\"3\")   # z will be 3.0\n",
    "w = float(\"4.2\") # w will be 4.2\n",
    "x = str(\"s1\") # x will be 's1'\n",
    "y = str(2)    # y will be '2'\n",
    "z = str(3.0)  # z will be '3.0'"
   ]
  },
  {
   "cell_type": "code",
   "execution_count": 4,
   "id": "5799bc41",
   "metadata": {},
   "outputs": [
    {
     "name": "stdout",
     "output_type": "stream",
     "text": [
      "Hello, World!\n"
     ]
    }
   ],
   "source": [
    "#This is a comment\n",
    "print(\"Hello, World!\")"
   ]
  },
  {
   "cell_type": "code",
   "execution_count": 1,
   "id": "68827383",
   "metadata": {},
   "outputs": [
    {
     "name": "stdout",
     "output_type": "stream",
     "text": [
      "Both conditions are True\n"
     ]
    }
   ],
   "source": [
    "#if, elif, else, short hand if,short hand if ... else\n",
    "\n",
    "# a = 200\n",
    "# b = 33\n",
    "# if b > a:\n",
    "#   print(\"b is greater than a\")\n",
    "# elif a == b:\n",
    "#   print(\"a and b are equal\")\n",
    "# else:\n",
    "#   print(\"a is greater than b\")\n",
    "\n",
    "a = 200\n",
    "b = 33\n",
    "c = 500\n",
    "if a > b and c > a:      #AND &\n",
    "  print(\"Both conditions are True\")\n",
    "\n",
    "#or, pass, nested if"
   ]
  },
  {
   "cell_type": "code",
   "execution_count": null,
   "id": "45932ecb",
   "metadata": {},
   "outputs": [],
   "source": [
    "x = \"Hello World\"\n",
    "y = 20\n",
    "z = 20.5\n",
    "i = 1j\n",
    "l = [\"apple\", \"banana\", \"cherry\"]\n",
    "t = (\"apple\", \"banana\", \"cherry\")\n",
    "r = range(6)\n",
    "d = {\"name\" : \"John\", \"age\" : 36}\n",
    "s = {\"apple\", \"banana\", \"cherry\"}\n",
    "f = frozenset({\"apple\", \"banana\", \"cherry\"})\n",
    "b = True\n",
    "by = b\"Hello\"\n",
    "byarr = bytearray(5)\n",
    "m = memoryview(bytes(5))\n",
    "n = None\n",
    "print()"
   ]
  },
  {
   "cell_type": "code",
   "execution_count": 2,
   "id": "482eafb3",
   "metadata": {},
   "outputs": [
    {
     "name": "stdout",
     "output_type": "stream",
     "text": [
      "<class 'int'>\n",
      "<class 'float'>\n",
      "<class 'complex'>\n"
     ]
    }
   ],
   "source": [
    "x = 1    # int\n",
    "y = 2.8  # float\n",
    "z = 1j   # complex\n",
    "print(type(x))\n",
    "print(type(y))\n",
    "print(type(z))"
   ]
  },
  {
   "cell_type": "code",
   "execution_count": 3,
   "id": "43d9a9c4",
   "metadata": {},
   "outputs": [
    {
     "name": "stdout",
     "output_type": "stream",
     "text": [
      "Hello, World!\n"
     ]
    }
   ],
   "source": [
    "print(\"Hello, World!\")"
   ]
  },
  {
   "cell_type": "code",
   "execution_count": 4,
   "id": "31f43e08",
   "metadata": {},
   "outputs": [
    {
     "name": "stdout",
     "output_type": "stream",
     "text": [
      "<class 'int'>\n",
      "<class 'float'>\n",
      "<class 'complex'>\n"
     ]
    }
   ],
   "source": [
    "x = 1    # int\n",
    "y = 2.8  # float\n",
    "z = 1j   # complex\n",
    "print(type(x))\n",
    "print(type(y))\n",
    "print(type(z))"
   ]
  },
  {
   "cell_type": "code",
   "execution_count": 5,
   "id": "8301e967",
   "metadata": {},
   "outputs": [
    {
     "name": "stdout",
     "output_type": "stream",
     "text": [
      "2\n",
      "4096\n"
     ]
    }
   ],
   "source": [
    "# += (-=, *=, /=, %=, //=, &=, |=, ^=, >>=)\n",
    "print(8 // 4)\n",
    "print(8 ** 4)\n",
    "#or, and, xor, not operators"
   ]
  },
  {
   "cell_type": "code",
   "execution_count": null,
   "id": "be28c0ba",
   "metadata": {},
   "outputs": [],
   "source": [
    "#You can use three double quotes:\n",
    "a = \"\"\"Lorem ipsum dolor sit amet,\n",
    "consectetur adipiscing elit,\n",
    "sed do eiusmod tempor incididunt\n",
    "ut labore et dolore magna aliqua.\"\"\"\n",
    "print(a)\n",
    "\n",
    "#Or three single quotes:\n",
    "a = '''Lorem ipsum dolor sit amet,\n",
    "consectetur adipiscing elit,\n",
    "sed do eiusmod tempor incididunt\n",
    "ut labore et dolore magna aliqua.'''\n",
    "print(a)\n",
    "\n",
    "#Get the character at position 1\n",
    "#(remember that the first character has the position 0):\n",
    "a = \"Hello, World!\"\n",
    "print(a[1])\n",
    "\n",
    "#Loop through the letters in the word \"banana\":\n",
    "\n",
    "for x in \"banana\":\n",
    "  print(x)\n",
    "\n",
    "#The len() function returns the length of a string:\n",
    "a = \"Hello, World!\"\n",
    "print(len(a))\n",
    "\n",
    "#Check if \"free\" is present in the following text:\n",
    "txt = \"The best things in life are free!\"\n",
    "print(\"free\" in txt)\n",
    "\n",
    "#Print only if \"free\" is present:\n",
    "txt = \"The best things in life are free!\"\n",
    "if \"free\" in txt:\n",
    "  print(\"Yes, 'free' is present.\")"
   ]
  },
  {
   "cell_type": "code",
   "execution_count": null,
   "id": "c61fe93e",
   "metadata": {},
   "outputs": [],
   "source": [
    "#Add a placeholder where you want to display the price:\n",
    "price = 49\n",
    "txt = \"The price is {} dollars\"\n",
    "print(txt.format(price))\n",
    "\n",
    "#If you want to use more values, just add more values to the format() method:\n",
    "print(txt.format(price, itemno, count))\n",
    "\n",
    "#And add more placeholders:\n",
    "quantity = 3\n",
    "itemno = 567\n",
    "price = 49\n",
    "myorder = \"I want {} pieces of item number {} for {:.2f} dollars.\"\n",
    "print(myorder.format(quantity, itemno, price))\n",
    "\n",
    "#Also, if you want to refer to the same value more than once, use the index number:\n",
    "age = 36\n",
    "name = \"John\"\n",
    "txt = \"His name is {1}. {1} is {0} years old.\"\n",
    "print(txt.format(age, name))\n",
    "\n",
    "#You can also use named indexes by entering a name \n",
    "#inside the curly brackets {carname}, but then you \n",
    "#must use names when you pass the parameter values txt.format(carname = \"Ford\"):\n",
    "myorder = \"I have a {carname}, it is a {model}.\"\n",
    "print(myorder.format(carname = \"Ford\", model = \"Mustang\"))"
   ]
  },
  {
   "cell_type": "code",
   "execution_count": 8,
   "id": "8de31014",
   "metadata": {},
   "outputs": [
    {
     "name": "stdout",
     "output_type": "stream",
     "text": [
      "Five is greater than two!\n"
     ]
    }
   ],
   "source": [
    "if 5 > 2:\n",
    "  print(\"Five is greater than two!\")"
   ]
  },
  {
   "cell_type": "code",
   "execution_count": 7,
   "id": "3c844f2b",
   "metadata": {},
   "outputs": [
    {
     "name": "stdout",
     "output_type": "stream",
     "text": [
      "5\n",
      "John\n"
     ]
    }
   ],
   "source": [
    "x = 5\n",
    "y = \"John\"\n",
    "print(x)\n",
    "print(y)"
   ]
  },
  {
   "cell_type": "code",
   "execution_count": 6,
   "id": "0de7c4bb",
   "metadata": {},
   "outputs": [
    {
     "name": "stdout",
     "output_type": "stream",
     "text": [
      "Enter username:Yernar\n",
      "Username is: Yernar\n"
     ]
    }
   ],
   "source": [
    "username = input(\"Enter username:\")\n",
    "print(\"Username is: \" + username)"
   ]
  }
 ],
 "metadata": {
  "kernelspec": {
   "display_name": "Python 3 (ipykernel)",
   "language": "python",
   "name": "python3"
  },
  "language_info": {
   "codemirror_mode": {
    "name": "ipython",
    "version": 3
   },
   "file_extension": ".py",
   "mimetype": "text/x-python",
   "name": "python",
   "nbconvert_exporter": "python",
   "pygments_lexer": "ipython3",
   "version": "3.9.13"
  }
 },
 "nbformat": 4,
 "nbformat_minor": 5
}
